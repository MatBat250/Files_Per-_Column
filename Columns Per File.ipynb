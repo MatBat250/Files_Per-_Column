{
 "cells": [
  {
   "cell_type": "code",
   "execution_count": 1,
   "metadata": {},
   "outputs": [],
   "source": [
    "import pyodbc\n",
    "import sqlalchemy\n",
    "from sqlalchemy import URL\n",
    "import pandas as pd\n",
    "import urllib\n",
    "import numpy as np\n",
    "import os\n",
    "import sys\n",
    "import glob\n",
    "import shutil\n",
    "from configparser import ConfigParser"
   ]
  },
  {
   "cell_type": "code",
   "execution_count": 9,
   "metadata": {},
   "outputs": [],
   "source": [
    "def initialize_config_object():\n",
    "    global config_object\n",
    "    config_object = ConfigParser()\n",
    "    config_object.optionxform = str\n",
    "    application_path = os.getcwd()\n",
    "    config_object.read(os.path.join(application_path,\"config.ini\"))"
   ]
  },
  {
   "cell_type": "code",
   "execution_count": 10,
   "metadata": {},
   "outputs": [],
   "source": [
    "def get_server_and_database():\n",
    "    server_config = config_object['SERVER']\n",
    "    return server_config['name'],server_config['database'],server_config['username'],server_config['password']"
   ]
  },
  {
   "cell_type": "code",
   "execution_count": 11,
   "metadata": {},
   "outputs": [],
   "source": [
    "initialize_config_object()"
   ]
  },
  {
   "cell_type": "code",
   "execution_count": 12,
   "metadata": {},
   "outputs": [],
   "source": [
    "server_name,database_name,username,password = get_server_and_database()"
   ]
  },
  {
   "cell_type": "code",
   "execution_count": 13,
   "metadata": {},
   "outputs": [],
   "source": [
    "def create_connection(server_name,database_name,username,password):\n",
    "    conn = pyodbc.connect(\n",
    "                            \"Driver=SQL Server;\"\n",
    "                            \"Server={};\"\n",
    "                            \"Database:{};\"\n",
    "                            \"Trust_connection:yes;\"\n",
    "                            \"uid={};\"\n",
    "                            \"pwd={};\".format(server_name,database_name,username,password)\n",
    "                            )\n",
    "    return conn.cursor()"
   ]
  },
  {
   "cell_type": "code",
   "execution_count": 14,
   "metadata": {},
   "outputs": [],
   "source": [
    "cursor = create_connection(server_name,database_name,username,password)"
   ]
  },
  {
   "cell_type": "code",
   "execution_count": 16,
   "metadata": {},
   "outputs": [],
   "source": [
    "sqlresult = []\n",
    "sql =  \"\"\"\n",
    "        declare @fileTypeName nvarchar(100) \n",
    "        exec columnNamePerFile @fileTypeName = ?\n",
    "        \"\"\"\n",
    "cursor.execute(sql,'Paycheck')\n",
    "rows = cursor.fetchall()"
   ]
  },
  {
   "cell_type": "code",
   "execution_count": 17,
   "metadata": {},
   "outputs": [
    {
     "data": {
      "text/plain": [
       "[('Name',), ('Net income',)]"
      ]
     },
     "execution_count": 17,
     "metadata": {},
     "output_type": "execute_result"
    }
   ],
   "source": [
    "rows"
   ]
  }
 ],
 "metadata": {
  "kernelspec": {
   "display_name": "Python 3",
   "language": "python",
   "name": "python3"
  },
  "language_info": {
   "codemirror_mode": {
    "name": "ipython",
    "version": 3
   },
   "file_extension": ".py",
   "mimetype": "text/x-python",
   "name": "python",
   "nbconvert_exporter": "python",
   "pygments_lexer": "ipython3",
   "version": "3.11.9"
  }
 },
 "nbformat": 4,
 "nbformat_minor": 2
}
